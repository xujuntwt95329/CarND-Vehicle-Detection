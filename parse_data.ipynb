{
 "cells": [
  {
   "cell_type": "markdown",
   "metadata": {},
   "source": [
    "## This notebook is used to generate label for Udacity Labeled data to fit darknet training format"
   ]
  },
  {
   "cell_type": "code",
   "execution_count": 13,
   "metadata": {
    "collapsed": true,
    "deletable": true,
    "editable": true
   },
   "outputs": [],
   "source": [
    "import pickle\n",
    "import os\n",
    "from os import listdir, getcwd\n",
    "from os.path import join\n",
    "\n",
    "import csv\n",
    "import pickle\n",
    "import numpy as np\n",
    "from sklearn.utils import shuffle"
   ]
  },
  {
   "cell_type": "code",
   "execution_count": 14,
   "metadata": {
    "collapsed": false,
    "deletable": true,
    "editable": true
   },
   "outputs": [],
   "source": [
    "def train_val_split(data):\n",
    "    key = list(data.keys())\n",
    "    shuffle_key = shuffle(key, random_state=0)\n",
    "    train = shuffle_key[:int(len(shuffle_key)*0.9)]\n",
    "    val = shuffle_key[int(len(shuffle_key)*0.9):]\n",
    "    train_data = {}\n",
    "    for key in train:\n",
    "        train_data[key] = data[key]\n",
    "    val_data = {}\n",
    "    for key in val:\n",
    "        val_data[key] = data[key]\n",
    "    return train_data, val_data\n",
    "\n",
    "def convert_annotation(prefix, image_id, data):\n",
    "    out_file = open('%s/%s.txt'%(prefix, image_id), 'w')\n",
    "    w = 1920\n",
    "    h = 1200\n",
    "\n",
    "    for obj in data[image_id]:\n",
    "        cls_id = obj[-1]\n",
    "        b = (obj[0],obj[2],obj[1],obj[3])\n",
    "#         print(b)\n",
    "        bb = convert((w,h), b)\n",
    "        out_file.write(str(cls_id) + \" \" + \" \".join([str(a) for a in bb]) + '\\n')\n",
    "\n",
    "def convert(size, box):\n",
    "    dw = 1./size[0]\n",
    "    dh = 1./size[1]\n",
    "    x = (box[0] + box[1])/2.0\n",
    "    y = (box[2] + box[3])/2.0\n",
    "    w = box[1] - box[0]\n",
    "    h = box[3] - box[2]\n",
    "    x = x*dw\n",
    "    w = w*dw\n",
    "    y = y*dh\n",
    "    h = h*dh\n",
    "    return (x,y,w,h)\n",
    "\n",
    "def parse(prefix, data):\n",
    "    train_data, val_data = train_val_split(data)\n",
    "    \n",
    "    wd = getcwd()\n",
    "    \n",
    "#     train_data\n",
    "    list_file = open('train_%s.txt'%(prefix), 'w')\n",
    "    for image_id in train_data:\n",
    "        list_file.write('%s/%s/%s.jpg\\n'%(wd, prefix, image_id))\n",
    "        convert_annotation(prefix, image_id, train_data)\n",
    "    list_file.close()\n",
    "#     val_data\n",
    "    list_file = open('val_%s.txt'%(prefix), 'w')\n",
    "    for image_id in val_data:\n",
    "        list_file.write('%s/%s/%s.jpg\\n'%(wd, prefix, image_id))\n",
    "        convert_annotation(prefix, image_id, val_data)\n",
    "    list_file.close()\n"
   ]
  },
  {
   "cell_type": "code",
   "execution_count": 15,
   "metadata": {
    "collapsed": false,
    "deletable": true,
    "editable": true
   },
   "outputs": [
    {
     "name": "stdout",
     "output_type": "stream",
     "text": [
      "object-dataset car:  44294 pedestrian:  0\n"
     ]
    }
   ],
   "source": [
    "class_names = [\"car\", \"truck\"]\n",
    "\n",
    "size = []\n",
    "\n",
    "prefix = \"object-dataset\"\n",
    "data = {}\n",
    "with open(prefix+\"/labels.csv\") as csvfile:\n",
    "    reader = csv.reader(csvfile, delimiter = \" \")\n",
    "    for row in reader:\n",
    "        label = row[-1].lower()\n",
    "        if(label in class_names):\n",
    "            img_id = row[0].split(\".\")[0]\n",
    "            label_id = class_names.index(label)\n",
    "            if(label_id > 0): label_id = label_id - 1 # combine truck with car\n",
    "            box = [0 for i in range(5)] # xmin, ymin, xmax, ymax, label\n",
    "            box[:4] = row[1:5]\n",
    "            box[-1] = label_id\n",
    "            box = np.array(box, dtype=np.int32)\n",
    "            if(box[-1] == 0):\n",
    "                size.append((box[2]-box[0])*(box[3]-box[1]))\n",
    "            if((box[2]-box[0])*(box[3]-box[1]) > 6000):\n",
    "                if(img_id not in data):\n",
    "                    data[img_id] = [box]\n",
    "                else:\n",
    "                    data[img_id].append(box)\n",
    "\n",
    "label_count = [0,0,0] # verify it reads correctly\n",
    "for img in data:\n",
    "    for obj in data[img]:\n",
    "        label_count[obj[-1]] += 1\n",
    "print(prefix, \"car: \",label_count[0],\"pedestrian: \",label_count[1])\n",
    "\n",
    "parse(prefix, data)\n"
   ]
  },
  {
   "cell_type": "code",
   "execution_count": 16,
   "metadata": {
    "collapsed": false,
    "deletable": true,
    "editable": true
   },
   "outputs": [
    {
     "name": "stdout",
     "output_type": "stream",
     "text": [
      "object-detection-crowdai car:  34962 pedestrian:  0\n"
     ]
    }
   ],
   "source": [
    "class_names = [\"car\", \"truck\"]\n",
    "\n",
    "prefix = \"object-detection-crowdai\"\n",
    "data = {}\n",
    "\n",
    "with open(prefix+\"/labels.csv\") as csvfile:\n",
    "    reader = csv.reader(csvfile, delimiter = \",\")\n",
    "    for row in reader:\n",
    "        label = row[-2].lower()\n",
    "        if(label in class_names):\n",
    "            img_id = row[4].split(\".\")[0]\n",
    "            label_id = class_names.index(label)\n",
    "            if(label_id > 0): label_id = label_id - 1 # combine truck with car\n",
    "            box = [0 for i in range(5)] # xmin, ymin, xmax, ymax, label\n",
    "            box[:4] = row[0:4]\n",
    "            box[-1] = label_id\n",
    "            box = np.array(box, dtype=np.int32)\n",
    "            if(box[-1] == 0):\n",
    "                size.append((box[2]-box[0])*(box[3]-box[1]))\n",
    "            if((box[2]-box[0])*(box[3]-box[1]) > 6000):\n",
    "                if(img_id not in data):\n",
    "                    data[img_id] = [box]\n",
    "                else:\n",
    "                    data[img_id].append(box)\n",
    "\n",
    "label_count = [0,0,0] # verify it reads correctly\n",
    "for img in data:\n",
    "    for obj in data[img]:\n",
    "        label_count[obj[-1]] += 1\n",
    "print(prefix, \"car: \",label_count[0],\"pedestrian: \",label_count[1])\n",
    "\n",
    "parse(prefix, data)"
   ]
  },
  {
   "cell_type": "code",
   "execution_count": 12,
   "metadata": {
    "collapsed": false,
    "deletable": true,
    "editable": true
   },
   "outputs": [
    {
     "name": "stdout",
     "output_type": "stream",
     "text": [
      "51384\n"
     ]
    },
    {
     "data": {
      "image/png": "[encoded data removed]",
      "text/plain": [
       "<matplotlib.figure.Figure at 0x7fe3006e82e8>"
      ]
     },
     "metadata": {},
     "output_type": "display_data"
    }
   ],
   "source": [
    "import numpy as np\n",
    "import matplotlib.mlab as mlab\n",
    "import matplotlib.pyplot as plt\n",
    "\n",
    "size_filter = [l for l in size if(l < 6000)]\n",
    "print(len(size_filter))\n",
    "n, bins, patches = plt.hist(size_filter, 1000,  facecolor='green')\n",
    "\n",
    "plt.show()"
   ]
  },
  {
   "cell_type": "code",
   "execution_count": null,
   "metadata": {
    "collapsed": true,
    "deletable": true,
    "editable": true
   },
   "outputs": [],
   "source": []
  }
 ],
 "metadata": {
  "kernelspec": {
   "display_name": "Python 3",
   "language": "python",
   "name": "python3"
  },
  "language_info": {
   "codemirror_mode": {
    "name": "ipython",
    "version": 3
   },
   "file_extension": ".py",
   "mimetype": "text/x-python",
   "name": "python",
   "nbconvert_exporter": "python",
   "pygments_lexer": "ipython3",
   "version": "3.5.2"
  },
  "widgets": {
   "state": {},
   "version": "1.1.2"
  }
 },
 "nbformat": 4,
 "nbformat_minor": 2
}
